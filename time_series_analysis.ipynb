{
 "cells": [
  {
   "cell_type": "code",
   "execution_count": 58,
   "metadata": {},
   "outputs": [],
   "source": [
    "import numpy as np\n",
    "import pandas as pd\n",
    "from pathlib import Path\n",
    "%matplotlib inline\n",
    "\n",
    "import warnings\n",
    "warnings.simplefilter(action='ignore', category=Warning)\n",
    "from statsmodels.tsa.seasonal import seasonal_decompose\n",
    "import statsmodels.api as sm\n",
    "from statsmodels.tsa.arima_model import ARMA\n",
    "from statsmodels.tsa.stattools import adfuller\n",
    "from statsmodels.tsa.arima_model import ARIMA\n",
    "import arch as arch\n",
    "from arch import arch_model"
   ]
  },
  {
   "cell_type": "markdown",
   "metadata": {},
   "source": [
    "# Return Forecasting: Time Series Analysis & Modelling with CAD-PHY Exchange rate data.\n",
    "In this notebook, you will load historical Canadian Dollar-Yen exchange rate futures data and apply time series analysis and modeling to determine whether there is any predictable behavior."
   ]
  },
  {
   "cell_type": "code",
   "execution_count": 2,
   "metadata": {},
   "outputs": [
    {
     "data": {
      "text/html": [
       "<div>\n",
       "<style scoped>\n",
       "    .dataframe tbody tr th:only-of-type {\n",
       "        vertical-align: middle;\n",
       "    }\n",
       "\n",
       "    .dataframe tbody tr th {\n",
       "        vertical-align: top;\n",
       "    }\n",
       "\n",
       "    .dataframe thead th {\n",
       "        text-align: right;\n",
       "    }\n",
       "</style>\n",
       "<table border=\"1\" class=\"dataframe\">\n",
       "  <thead>\n",
       "    <tr style=\"text-align: right;\">\n",
       "      <th></th>\n",
       "      <th>Price</th>\n",
       "      <th>Open</th>\n",
       "      <th>High</th>\n",
       "      <th>Low</th>\n",
       "    </tr>\n",
       "    <tr>\n",
       "      <th>Date</th>\n",
       "      <th></th>\n",
       "      <th></th>\n",
       "      <th></th>\n",
       "      <th></th>\n",
       "    </tr>\n",
       "  </thead>\n",
       "  <tbody>\n",
       "    <tr>\n",
       "      <th>1982-01-05</th>\n",
       "      <td>184.65</td>\n",
       "      <td>184.65</td>\n",
       "      <td>184.65</td>\n",
       "      <td>184.65</td>\n",
       "    </tr>\n",
       "    <tr>\n",
       "      <th>1982-01-06</th>\n",
       "      <td>185.06</td>\n",
       "      <td>185.06</td>\n",
       "      <td>185.06</td>\n",
       "      <td>185.06</td>\n",
       "    </tr>\n",
       "    <tr>\n",
       "      <th>1982-01-07</th>\n",
       "      <td>186.88</td>\n",
       "      <td>186.88</td>\n",
       "      <td>186.88</td>\n",
       "      <td>186.88</td>\n",
       "    </tr>\n",
       "    <tr>\n",
       "      <th>1982-01-08</th>\n",
       "      <td>186.58</td>\n",
       "      <td>186.58</td>\n",
       "      <td>186.58</td>\n",
       "      <td>186.58</td>\n",
       "    </tr>\n",
       "    <tr>\n",
       "      <th>1982-01-11</th>\n",
       "      <td>187.64</td>\n",
       "      <td>187.64</td>\n",
       "      <td>187.64</td>\n",
       "      <td>187.64</td>\n",
       "    </tr>\n",
       "  </tbody>\n",
       "</table>\n",
       "</div>"
      ],
      "text/plain": [
       "             Price    Open    High     Low\n",
       "Date                                      \n",
       "1982-01-05  184.65  184.65  184.65  184.65\n",
       "1982-01-06  185.06  185.06  185.06  185.06\n",
       "1982-01-07  186.88  186.88  186.88  186.88\n",
       "1982-01-08  186.58  186.58  186.58  186.58\n",
       "1982-01-11  187.64  187.64  187.64  187.64"
      ]
     },
     "execution_count": 2,
     "metadata": {},
     "output_type": "execute_result"
    }
   ],
   "source": [
    "# Currency pair exchange rates for CAD/JPY\n",
    "cad_jpy_df = pd.read_csv(\n",
    "    Path(\"cad_jpy.csv\"), index_col=\"Date\", infer_datetime_format=True, parse_dates=True\n",
    ")\n",
    "cad_jpy_df.head()"
   ]
  },
  {
   "cell_type": "code",
   "execution_count": 3,
   "metadata": {},
   "outputs": [
    {
     "data": {
      "text/html": [
       "<div>\n",
       "<style scoped>\n",
       "    .dataframe tbody tr th:only-of-type {\n",
       "        vertical-align: middle;\n",
       "    }\n",
       "\n",
       "    .dataframe tbody tr th {\n",
       "        vertical-align: top;\n",
       "    }\n",
       "\n",
       "    .dataframe thead th {\n",
       "        text-align: right;\n",
       "    }\n",
       "</style>\n",
       "<table border=\"1\" class=\"dataframe\">\n",
       "  <thead>\n",
       "    <tr style=\"text-align: right;\">\n",
       "      <th></th>\n",
       "      <th>Price</th>\n",
       "      <th>Open</th>\n",
       "      <th>High</th>\n",
       "      <th>Low</th>\n",
       "    </tr>\n",
       "    <tr>\n",
       "      <th>Date</th>\n",
       "      <th></th>\n",
       "      <th></th>\n",
       "      <th></th>\n",
       "      <th></th>\n",
       "    </tr>\n",
       "  </thead>\n",
       "  <tbody>\n",
       "    <tr>\n",
       "      <th>1990-01-02</th>\n",
       "      <td>126.37</td>\n",
       "      <td>126.31</td>\n",
       "      <td>126.37</td>\n",
       "      <td>126.31</td>\n",
       "    </tr>\n",
       "    <tr>\n",
       "      <th>1990-01-03</th>\n",
       "      <td>125.30</td>\n",
       "      <td>125.24</td>\n",
       "      <td>125.30</td>\n",
       "      <td>125.24</td>\n",
       "    </tr>\n",
       "    <tr>\n",
       "      <th>1990-01-04</th>\n",
       "      <td>123.46</td>\n",
       "      <td>123.41</td>\n",
       "      <td>123.46</td>\n",
       "      <td>123.41</td>\n",
       "    </tr>\n",
       "    <tr>\n",
       "      <th>1990-01-05</th>\n",
       "      <td>124.54</td>\n",
       "      <td>124.48</td>\n",
       "      <td>124.54</td>\n",
       "      <td>124.48</td>\n",
       "    </tr>\n",
       "    <tr>\n",
       "      <th>1990-01-08</th>\n",
       "      <td>124.27</td>\n",
       "      <td>124.21</td>\n",
       "      <td>124.27</td>\n",
       "      <td>124.21</td>\n",
       "    </tr>\n",
       "  </tbody>\n",
       "</table>\n",
       "</div>"
      ],
      "text/plain": [
       "             Price    Open    High     Low\n",
       "Date                                      \n",
       "1990-01-02  126.37  126.31  126.37  126.31\n",
       "1990-01-03  125.30  125.24  125.30  125.24\n",
       "1990-01-04  123.46  123.41  123.46  123.41\n",
       "1990-01-05  124.54  124.48  124.54  124.48\n",
       "1990-01-08  124.27  124.21  124.27  124.21"
      ]
     },
     "execution_count": 3,
     "metadata": {},
     "output_type": "execute_result"
    }
   ],
   "source": [
    "# Trim the dataset to begin on January 1st, 1990\n",
    "cad_jpy_df = cad_jpy_df.loc[\"1990-01-01\":, :]\n",
    "cad_jpy_df.head()"
   ]
  },
  {
   "cell_type": "markdown",
   "metadata": {},
   "source": [
    "# Initial Time-Series Plotting"
   ]
  },
  {
   "cell_type": "markdown",
   "metadata": {},
   "source": [
    " Start by plotting the \"Settle\" price. Do you see any patterns, long-term and/or short?"
   ]
  },
  {
   "cell_type": "code",
   "execution_count": 5,
   "metadata": {},
   "outputs": [
    {
     "data": {
      "text/plain": [
       "<AxesSubplot:xlabel='Date'>"
      ]
     },
     "execution_count": 5,
     "metadata": {},
     "output_type": "execute_result"
    },
    {
     "data": {
      "image/png": "[encoded data removed]",
      "text/plain": [
       "<Figure size 720x504 with 1 Axes>"
      ]
     },
     "metadata": {
      "needs_background": "light"
     },
     "output_type": "display_data"
    }
   ],
   "source": [
    "# Plot just the \"Price\" column from the dataframe:\n",
    "cad_jpy_df.Price.plot(figsize=(10,7))"
   ]
  },
  {
   "cell_type": "markdown",
   "metadata": {},
   "source": [
    "**Question:** Do you see any patterns, long-term and/or short? "
   ]
  },
  {
   "cell_type": "markdown",
   "metadata": {},
   "source": [
    "**Answer:** Chart shows high volatility. In shorterm there are some periods where there is a trend (either descending from 19192 to 1996) followed by sudden reversal of thrend to the upside (from 1996 to 2000) and this pattern then repeats in 2000 -2001 (sudden towntrend) to 2004-2008 (uptreand) followed again by sudden crash. Overall the chart never reached it previous highs , but also did not crash to its previous lows."
   ]
  },
  {
   "cell_type": "markdown",
   "metadata": {},
   "source": [
    "---"
   ]
  },
  {
   "cell_type": "markdown",
   "metadata": {},
   "source": [
    "# Decomposition Using a Hodrick-Prescott Filter"
   ]
  },
  {
   "cell_type": "markdown",
   "metadata": {},
   "source": [
    " Using a Hodrick-Prescott Filter, decompose the exchange rate price into trend and noise."
   ]
  },
  {
   "cell_type": "code",
   "execution_count": 7,
   "metadata": {},
   "outputs": [
    {
     "data": {
      "text/plain": [
       "Date\n",
       "1990-01-02    125.850905\n",
       "1990-01-03    125.679684\n",
       "1990-01-04    125.508788\n",
       "1990-01-05    125.338304\n",
       "1990-01-08    125.167037\n",
       "Name: Price_trend, dtype: float64"
      ]
     },
     "execution_count": 7,
     "metadata": {},
     "output_type": "execute_result"
    }
   ],
   "source": [
    "\n",
    "\n",
    "# Apply the Hodrick-Prescott Filter by decomposing the exchange rate price into two separate series:\n",
    "ts_noise, ts_trend = sm.tsa.filters.hpfilter(cad_jpy_df['Price'])\n",
    "ts_trend.head()"
   ]
  },
  {
   "cell_type": "code",
   "execution_count": 10,
   "metadata": {},
   "outputs": [
    {
     "data": {
      "text/html": [
       "<div>\n",
       "<style scoped>\n",
       "    .dataframe tbody tr th:only-of-type {\n",
       "        vertical-align: middle;\n",
       "    }\n",
       "\n",
       "    .dataframe tbody tr th {\n",
       "        vertical-align: top;\n",
       "    }\n",
       "\n",
       "    .dataframe thead th {\n",
       "        text-align: right;\n",
       "    }\n",
       "</style>\n",
       "<table border=\"1\" class=\"dataframe\">\n",
       "  <thead>\n",
       "    <tr style=\"text-align: right;\">\n",
       "      <th></th>\n",
       "      <th>Price</th>\n",
       "      <th>noise</th>\n",
       "      <th>trend</th>\n",
       "    </tr>\n",
       "    <tr>\n",
       "      <th>Date</th>\n",
       "      <th></th>\n",
       "      <th></th>\n",
       "      <th></th>\n",
       "    </tr>\n",
       "  </thead>\n",
       "  <tbody>\n",
       "    <tr>\n",
       "      <th>1990-01-02</th>\n",
       "      <td>126.37</td>\n",
       "      <td>0.519095</td>\n",
       "      <td>125.850905</td>\n",
       "    </tr>\n",
       "    <tr>\n",
       "      <th>1990-01-03</th>\n",
       "      <td>125.30</td>\n",
       "      <td>-0.379684</td>\n",
       "      <td>125.679684</td>\n",
       "    </tr>\n",
       "    <tr>\n",
       "      <th>1990-01-04</th>\n",
       "      <td>123.46</td>\n",
       "      <td>-2.048788</td>\n",
       "      <td>125.508788</td>\n",
       "    </tr>\n",
       "    <tr>\n",
       "      <th>1990-01-05</th>\n",
       "      <td>124.54</td>\n",
       "      <td>-0.798304</td>\n",
       "      <td>125.338304</td>\n",
       "    </tr>\n",
       "    <tr>\n",
       "      <th>1990-01-08</th>\n",
       "      <td>124.27</td>\n",
       "      <td>-0.897037</td>\n",
       "      <td>125.167037</td>\n",
       "    </tr>\n",
       "  </tbody>\n",
       "</table>\n",
       "</div>"
      ],
      "text/plain": [
       "             Price     noise       trend\n",
       "Date                                    \n",
       "1990-01-02  126.37  0.519095  125.850905\n",
       "1990-01-03  125.30 -0.379684  125.679684\n",
       "1990-01-04  123.46 -2.048788  125.508788\n",
       "1990-01-05  124.54 -0.798304  125.338304\n",
       "1990-01-08  124.27 -0.897037  125.167037"
      ]
     },
     "execution_count": 10,
     "metadata": {},
     "output_type": "execute_result"
    }
   ],
   "source": [
    "# Create a dataframe of just the exchange rate price, and add columns for \"noise\" and \"trend\" series from above:\n",
    "cad_jpy_df_timeseries = cad_jpy_df['Price'].to_frame()\n",
    "cad_jpy_df_timeseries['noise'] = ts_noise.to_frame()\n",
    "cad_jpy_df_timeseries['trend'] = ts_trend.to_frame()\n",
    "cad_jpy_df_timeseries.head()"
   ]
  },
  {
   "cell_type": "code",
   "execution_count": 14,
   "metadata": {},
   "outputs": [
    {
     "data": {
      "text/plain": [
       "<AxesSubplot:xlabel='Date'>"
      ]
     },
     "execution_count": 14,
     "metadata": {},
     "output_type": "execute_result"
    },
    {
     "data": {
      "image/png": "[encoded data removed]",
      "text/plain": [
       "<Figure size 720x504 with 1 Axes>"
      ]
     },
     "metadata": {
      "needs_background": "light"
     },
     "output_type": "display_data"
    }
   ],
   "source": [
    "# Plot the Exchange Rate Price vs. the Trend for 2015 to the present\n",
    "cad_jpy_df_timeseries_2015 = cad_jpy_df_timeseries.loc[\"2015-01-01\":, [\"Price\",\"trend\"]]\n",
    "cad_jpy_df_timeseries_2015.plot(figsize=(10,7))"
   ]
  },
  {
   "cell_type": "markdown",
   "metadata": {},
   "source": [
    "**Question:** Do you see any patterns, long-term and/or short?"
   ]
  },
  {
   "cell_type": "markdown",
   "metadata": {},
   "source": [
    "**Answer:** There is a lot of volatility over the time period.The price movements are usually significant during begining and end of the year e.g (it crashed at begining of 2016, then there is huge spike at begining of 2017, and again at end of 2018 there is a huge drop. Similarly it has a huge increase in begining of 2018 and huge drop at end of 2018. Same behaviour is observers at begining of 2019 where there is a significant recovery, followed by a significant drop at begining of 2020)\n",
    "\n",
    "Chart shows downtrend due to lower highs and lower lows."
   ]
  },
  {
   "cell_type": "code",
   "execution_count": 31,
   "metadata": {},
   "outputs": [
    {
     "data": {
      "text/plain": [
       "<AxesSubplot:xlabel='Date'>"
      ]
     },
     "execution_count": 31,
     "metadata": {},
     "output_type": "execute_result"
    },
    {
     "data": {
      "image/png": "[encoded data removed]",
      "text/plain": [
       "<Figure size 720x504 with 1 Axes>"
      ]
     },
     "metadata": {
      "needs_background": "light"
     },
     "output_type": "display_data"
    }
   ],
   "source": [
    "# Plot the Settle Noise\n",
    "cad_jpy_df_timeseries['noise'].plot(figsize=(10,7))"
   ]
  },
  {
   "cell_type": "markdown",
   "metadata": {},
   "source": [
    "---"
   ]
  },
  {
   "cell_type": "markdown",
   "metadata": {},
   "source": [
    "# Forecasting Returns using an ARMA Model"
   ]
  },
  {
   "cell_type": "markdown",
   "metadata": {},
   "source": [
    "Using exchange rate *Returns*, estimate an ARMA model\n",
    "\n",
    "1. ARMA: Create an ARMA model and fit it to the returns data. Note: Set the AR and MA (\"p\" and \"q\") parameters to p=2 and q=1: order=(2, 1).\n",
    "2. Output the ARMA summary table and take note of the p-values of the lags. Based on the p-values, is the model a good fit (p < 0.05)?\n",
    "3. Plot the 5-day forecast of the forecasted returns (the results forecast from ARMA model)"
   ]
  },
  {
   "cell_type": "code",
   "execution_count": 35,
   "metadata": {},
   "outputs": [
    {
     "data": {
      "text/html": [
       "<div>\n",
       "<style scoped>\n",
       "    .dataframe tbody tr th:only-of-type {\n",
       "        vertical-align: middle;\n",
       "    }\n",
       "\n",
       "    .dataframe tbody tr th {\n",
       "        vertical-align: top;\n",
       "    }\n",
       "\n",
       "    .dataframe thead th {\n",
       "        text-align: right;\n",
       "    }\n",
       "</style>\n",
       "<table border=\"1\" class=\"dataframe\">\n",
       "  <thead>\n",
       "    <tr style=\"text-align: right;\">\n",
       "      <th></th>\n",
       "      <th>Price</th>\n",
       "    </tr>\n",
       "    <tr>\n",
       "      <th>Date</th>\n",
       "      <th></th>\n",
       "    </tr>\n",
       "  </thead>\n",
       "  <tbody>\n",
       "    <tr>\n",
       "      <th>2020-05-29</th>\n",
       "      <td>0.076697</td>\n",
       "    </tr>\n",
       "    <tr>\n",
       "      <th>2020-06-01</th>\n",
       "      <td>1.251756</td>\n",
       "    </tr>\n",
       "    <tr>\n",
       "      <th>2020-06-02</th>\n",
       "      <td>1.425508</td>\n",
       "    </tr>\n",
       "    <tr>\n",
       "      <th>2020-06-03</th>\n",
       "      <td>0.373134</td>\n",
       "    </tr>\n",
       "    <tr>\n",
       "      <th>2020-06-04</th>\n",
       "      <td>0.012392</td>\n",
       "    </tr>\n",
       "  </tbody>\n",
       "</table>\n",
       "</div>"
      ],
      "text/plain": [
       "               Price\n",
       "Date                \n",
       "2020-05-29  0.076697\n",
       "2020-06-01  1.251756\n",
       "2020-06-02  1.425508\n",
       "2020-06-03  0.373134\n",
       "2020-06-04  0.012392"
      ]
     },
     "execution_count": 35,
     "metadata": {},
     "output_type": "execute_result"
    }
   ],
   "source": [
    "# Create a series using \"Price\" percentage returns, drop any nan\"s, and check the results:\n",
    "# (Make sure to multiply the pct_change() results by 100)\n",
    "# In this case, you may have to replace inf, -inf values with np.nan\"s\n",
    "returns = (cad_jpy_df[[\"Price\"]].pct_change() * 100)\n",
    "returns = returns.replace(-np.inf, np.nan).dropna()\n",
    "returns.tail()"
   ]
  },
  {
   "cell_type": "code",
   "execution_count": 36,
   "metadata": {},
   "outputs": [
    {
     "name": "stderr",
     "output_type": "stream",
     "text": [
      " This problem is unconstrained.\n"
     ]
    },
    {
     "name": "stdout",
     "output_type": "stream",
     "text": [
      "RUNNING THE L-BFGS-B CODE\n",
      "\n",
      "           * * *\n",
      "\n",
      "Machine precision = 2.220D-16\n",
      " N =            4     M =           12\n",
      "\n",
      "At X0         0 variables are exactly at the bounds\n",
      "\n",
      "At iterate    0    f=  1.23010D+00    |proj g|=  3.45590D-04\n",
      "\n",
      "At iterate    5    f=  1.23010D+00    |proj g|=  3.57714D-05\n",
      "\n",
      "At iterate   10    f=  1.23010D+00    |proj g|=  3.51541D-04\n",
      "\n",
      "At iterate   15    f=  1.23007D+00    |proj g|=  7.78044D-05\n",
      "\n",
      "At iterate   20    f=  1.23007D+00    |proj g|=  1.55431D-07\n",
      "\n",
      "           * * *\n",
      "\n",
      "Tit   = total number of iterations\n",
      "Tnf   = total number of function evaluations\n",
      "Tnint = total number of segments explored during Cauchy searches\n",
      "Skip  = number of BFGS updates skipped\n",
      "Nact  = number of active bounds at final generalized Cauchy point\n",
      "Projg = norm of the final projected gradient\n",
      "F     = final function value\n",
      "\n",
      "           * * *\n",
      "\n",
      "   N    Tit     Tnf  Tnint  Skip  Nact     Projg        F\n",
      "    4     23     30      1     0     0   4.441D-08   1.230D+00\n",
      "  F =   1.2300678291598384     \n",
      "\n",
      "CONVERGENCE: REL_REDUCTION_OF_F_<=_FACTR*EPSMCH             \n"
     ]
    }
   ],
   "source": [
    "import statsmodels.api as sm\n",
    "\n",
    "# Estimate and ARMA model using statsmodels (use order=(2, 1))\n",
    "model = ARMA(returns.values, order=(2,1))\n",
    "\n",
    "# Fit the model and assign it to a variable called results\n",
    "results = model.fit()"
   ]
  },
  {
   "cell_type": "code",
   "execution_count": 38,
   "metadata": {},
   "outputs": [
    {
     "data": {
      "text/html": [
       "<table class=\"simpletable\">\n",
       "<caption>ARMA Model Results</caption>\n",
       "<tr>\n",
       "  <th>Dep. Variable:</th>         <td>y</td>        <th>  No. Observations:  </th>   <td>7928</td>   \n",
       "</tr>\n",
       "<tr>\n",
       "  <th>Model:</th>            <td>ARMA(2, 1)</td>    <th>  Log Likelihood     </th> <td>-9751.978</td>\n",
       "</tr>\n",
       "<tr>\n",
       "  <th>Method:</th>             <td>css-mle</td>     <th>  S.D. of innovations</th>   <td>0.828</td>  \n",
       "</tr>\n",
       "<tr>\n",
       "  <th>Date:</th>          <td>Sat, 30 Apr 2022</td> <th>  AIC                </th> <td>19513.955</td>\n",
       "</tr>\n",
       "<tr>\n",
       "  <th>Time:</th>              <td>18:21:37</td>     <th>  BIC                </th> <td>19548.846</td>\n",
       "</tr>\n",
       "<tr>\n",
       "  <th>Sample:</th>                <td>0</td>        <th>  HQIC               </th> <td>19525.903</td>\n",
       "</tr>\n",
       "<tr>\n",
       "  <th></th>                       <td> </td>        <th>                     </th>     <td> </td>    \n",
       "</tr>\n",
       "</table>\n",
       "<table class=\"simpletable\">\n",
       "<tr>\n",
       "     <td></td>        <th>coef</th>     <th>std err</th>      <th>z</th>      <th>P>|z|</th>  <th>[0.025</th>    <th>0.975]</th>  \n",
       "</tr>\n",
       "<tr>\n",
       "  <th>const</th>   <td>   -0.0022</td> <td>    0.009</td> <td>   -0.245</td> <td> 0.807</td> <td>   -0.020</td> <td>    0.016</td>\n",
       "</tr>\n",
       "<tr>\n",
       "  <th>ar.L1.y</th> <td>   -0.8547</td> <td>    0.164</td> <td>   -5.200</td> <td> 0.000</td> <td>   -1.177</td> <td>   -0.533</td>\n",
       "</tr>\n",
       "<tr>\n",
       "  <th>ar.L2.y</th> <td>   -0.0197</td> <td>    0.013</td> <td>   -1.475</td> <td> 0.140</td> <td>   -0.046</td> <td>    0.006</td>\n",
       "</tr>\n",
       "<tr>\n",
       "  <th>ma.L1.y</th> <td>    0.8246</td> <td>    0.164</td> <td>    5.030</td> <td> 0.000</td> <td>    0.503</td> <td>    1.146</td>\n",
       "</tr>\n",
       "</table>\n",
       "<table class=\"simpletable\">\n",
       "<caption>Roots</caption>\n",
       "<tr>\n",
       "    <td></td>   <th>            Real</th>  <th>         Imaginary</th> <th>         Modulus</th>  <th>        Frequency</th>\n",
       "</tr>\n",
       "<tr>\n",
       "  <th>AR.1</th> <td>          -1.2033</td> <td>          +0.0000j</td> <td>           1.2033</td> <td>           0.5000</td>\n",
       "</tr>\n",
       "<tr>\n",
       "  <th>AR.2</th> <td>         -42.1705</td> <td>          +0.0000j</td> <td>          42.1705</td> <td>           0.5000</td>\n",
       "</tr>\n",
       "<tr>\n",
       "  <th>MA.1</th> <td>          -1.2127</td> <td>          +0.0000j</td> <td>           1.2127</td> <td>           0.5000</td>\n",
       "</tr>\n",
       "</table>"
      ],
      "text/plain": [
       "<class 'statsmodels.iolib.summary.Summary'>\n",
       "\"\"\"\n",
       "                              ARMA Model Results                              \n",
       "==============================================================================\n",
       "Dep. Variable:                      y   No. Observations:                 7928\n",
       "Model:                     ARMA(2, 1)   Log Likelihood               -9751.978\n",
       "Method:                       css-mle   S.D. of innovations              0.828\n",
       "Date:                Sat, 30 Apr 2022   AIC                          19513.955\n",
       "Time:                        18:21:37   BIC                          19548.846\n",
       "Sample:                             0   HQIC                         19525.903\n",
       "                                                                              \n",
       "==============================================================================\n",
       "                 coef    std err          z      P>|z|      [0.025      0.975]\n",
       "------------------------------------------------------------------------------\n",
       "const         -0.0022      0.009     -0.245      0.807      -0.020       0.016\n",
       "ar.L1.y       -0.8547      0.164     -5.200      0.000      -1.177      -0.533\n",
       "ar.L2.y       -0.0197      0.013     -1.475      0.140      -0.046       0.006\n",
       "ma.L1.y        0.8246      0.164      5.030      0.000       0.503       1.146\n",
       "                                    Roots                                    \n",
       "=============================================================================\n",
       "                  Real          Imaginary           Modulus         Frequency\n",
       "-----------------------------------------------------------------------------\n",
       "AR.1           -1.2033           +0.0000j            1.2033            0.5000\n",
       "AR.2          -42.1705           +0.0000j           42.1705            0.5000\n",
       "MA.1           -1.2127           +0.0000j            1.2127            0.5000\n",
       "-----------------------------------------------------------------------------\n",
       "\"\"\""
      ]
     },
     "execution_count": 38,
     "metadata": {},
     "output_type": "execute_result"
    }
   ],
   "source": [
    "# Output model summary results:\n",
    "results.summary()"
   ]
  },
  {
   "cell_type": "code",
   "execution_count": 45,
   "metadata": {},
   "outputs": [
    {
     "name": "stdout",
     "output_type": "stream",
     "text": [
      "ADF Statistic: -2.983688\n",
      "p-value:        0.036446 \n",
      "Lags used:      17\n",
      "Critical Values:\n",
      "('1%', -3.4311768768960773)\n",
      "('5%', -2.8619054197754936)\n",
      "('10%', -2.566964508289118)\n"
     ]
    },
    {
     "data": {
      "text/plain": [
       "True"
      ]
     },
     "execution_count": 45,
     "metadata": {},
     "output_type": "execute_result"
    },
    {
     "data": {
      "image/png": "[encoded data removed]",
      "text/plain": [
       "<Figure size 432x288 with 1 Axes>"
      ]
     },
     "metadata": {
      "needs_background": "light"
     },
     "output_type": "display_data"
    }
   ],
   "source": [
    "\n",
    "def is_stationary(series_x): \n",
    "    \"\"\"\n",
    "    Input expected: Pandas series\n",
    "    \"\"\"\n",
    "    series_x.plot(title=series_x.name)\n",
    "    \n",
    "    result = adfuller(series_x)\n",
    "    # Access the contents of the results:\n",
    "    print('ADF Statistic: %f' % result[0])\n",
    "    print('p-value:        %f ' % result[1])\n",
    "    print('Lags used:      %d' % result[2])\n",
    "    print('Critical Values:')\n",
    "    for key, value in result[4].items():\n",
    "        print((key, value))\n",
    "    \n",
    "\n",
    "    p_value = result[1]\n",
    "    if p_value <= 0.05: \n",
    "        return True \n",
    "    elif p_value > 0.05: \n",
    "        return False\n",
    "\n",
    "#is_stationary(cad_jpy_df['Price'])"
   ]
  },
  {
   "cell_type": "code",
   "execution_count": 46,
   "metadata": {},
   "outputs": [
    {
     "data": {
      "text/plain": [
       "<AxesSubplot:title={'center':'5 Day Returns Forecast'}>"
      ]
     },
     "execution_count": 46,
     "metadata": {},
     "output_type": "execute_result"
    },
    {
     "data": {
      "image/png": "[encoded data removed]",
      "text/plain": [
       "<Figure size 432x288 with 1 Axes>"
      ]
     },
     "metadata": {
      "needs_background": "light"
     },
     "output_type": "display_data"
    }
   ],
   "source": [
    "# Plot the 5 Day Returns Forecast\n",
    "pd.DataFrame(results.forecast(steps=5)[0]).plot(title=\"5 Day Returns Forecast\")\n"
   ]
  },
  {
   "cell_type": "markdown",
   "metadata": {},
   "source": [
    "**Question:** Based on the p-value, is the model a good fit?\n",
    "\n",
    "**Answer:** The p-value is varies a lot from 0 to more than 0.05, so the model is not very accurate to predict forecast"
   ]
  },
  {
   "cell_type": "markdown",
   "metadata": {},
   "source": [
    "---"
   ]
  },
  {
   "cell_type": "markdown",
   "metadata": {},
   "source": [
    "# Forecasting the Exchange Rate Price using an ARIMA Model"
   ]
  },
  {
   "cell_type": "markdown",
   "metadata": {},
   "source": [
    " 1. Using the *raw* CAD/JPY exchange rate price, estimate an ARIMA model.\n",
    "     1. Set P=5, D=1, and Q=1 in the model (e.g., ARIMA(df, order=(5,1,1))\n",
    "     2. P= # of Auto-Regressive Lags, D= # of Differences (this is usually =1), Q= # of Moving Average Lags\n",
    " 2. Output the ARIMA summary table and take note of the p-values of the lags. Based on the p-values, is the model a good fit (p < 0.05)?\n",
    " 3. Plot a 5 day forecast for the Exchange Rate Price. What does the model forecast predict will happen to the Japanese Yen in the near term?"
   ]
  },
  {
   "cell_type": "code",
   "execution_count": 49,
   "metadata": {},
   "outputs": [
    {
     "name": "stdout",
     "output_type": "stream",
     "text": [
      "RUNNING THE L-BFGS-B CODE\n",
      "\n",
      "           * * *\n",
      "\n",
      "Machine precision = 2.220D-16\n",
      " N =            7     M =           12\n",
      "\n",
      "At X0         0 variables are exactly at the bounds\n",
      "\n",
      "At iterate    0    f=  1.10313D+00    |proj g|=  1.92979D-04\n",
      "\n",
      "At iterate    5    f=  1.10313D+00    |proj g|=  5.81757D-06\n",
      "\n",
      "At iterate   10    f=  1.10313D+00    |proj g|=  3.35287D-05\n"
     ]
    },
    {
     "name": "stderr",
     "output_type": "stream",
     "text": [
      " This problem is unconstrained.\n"
     ]
    },
    {
     "name": "stdout",
     "output_type": "stream",
     "text": [
      "\n",
      "At iterate   15    f=  1.10313D+00    |proj g|=  4.79616D-05\n",
      "\n",
      "At iterate   20    f=  1.10313D+00    |proj g|=  5.77316D-07\n",
      "\n",
      "           * * *\n",
      "\n",
      "Tit   = total number of iterations\n",
      "Tnf   = total number of function evaluations\n",
      "Tnint = total number of segments explored during Cauchy searches\n",
      "Skip  = number of BFGS updates skipped\n",
      "Nact  = number of active bounds at final generalized Cauchy point\n",
      "Projg = norm of the final projected gradient\n",
      "F     = final function value\n",
      "\n",
      "           * * *\n",
      "\n",
      "   N    Tit     Tnf  Tnint  Skip  Nact     Projg        F\n",
      "    7     23     27      1     0     0   8.882D-08   1.103D+00\n",
      "  F =   1.1031309576181250     \n",
      "\n",
      "CONVERGENCE: REL_REDUCTION_OF_F_<=_FACTR*EPSMCH             \n"
     ]
    }
   ],
   "source": [
    "from statsmodels.tsa.arima_model import ARIMA\n",
    "\n",
    "# Estimate and ARIMA Model:\n",
    "# Hint: ARIMA(df, order=(p, d, q))\n",
    "model_arima = ARIMA(cad_jpy_df['Price'], order=(5, 1, 1))\n",
    "\n",
    "# Fit the model\n",
    "results_arima = model_arima.fit()"
   ]
  },
  {
   "cell_type": "code",
   "execution_count": 50,
   "metadata": {},
   "outputs": [
    {
     "data": {
      "text/html": [
       "<table class=\"simpletable\">\n",
       "<caption>ARIMA Model Results</caption>\n",
       "<tr>\n",
       "  <th>Dep. Variable:</th>      <td>D.Price</td>     <th>  No. Observations:  </th>   <td>7928</td>   \n",
       "</tr>\n",
       "<tr>\n",
       "  <th>Model:</th>          <td>ARIMA(5, 1, 1)</td>  <th>  Log Likelihood     </th> <td>-8745.622</td>\n",
       "</tr>\n",
       "<tr>\n",
       "  <th>Method:</th>             <td>css-mle</td>     <th>  S.D. of innovations</th>   <td>0.729</td>  \n",
       "</tr>\n",
       "<tr>\n",
       "  <th>Date:</th>          <td>Sat, 30 Apr 2022</td> <th>  AIC                </th> <td>17507.244</td>\n",
       "</tr>\n",
       "<tr>\n",
       "  <th>Time:</th>              <td>20:57:34</td>     <th>  BIC                </th> <td>17563.070</td>\n",
       "</tr>\n",
       "<tr>\n",
       "  <th>Sample:</th>                <td>1</td>        <th>  HQIC               </th> <td>17526.361</td>\n",
       "</tr>\n",
       "<tr>\n",
       "  <th></th>                       <td> </td>        <th>                     </th>     <td> </td>    \n",
       "</tr>\n",
       "</table>\n",
       "<table class=\"simpletable\">\n",
       "<tr>\n",
       "        <td></td>           <th>coef</th>     <th>std err</th>      <th>z</th>      <th>P>|z|</th>  <th>[0.025</th>    <th>0.975]</th>  \n",
       "</tr>\n",
       "<tr>\n",
       "  <th>const</th>         <td>   -0.0058</td> <td>    0.008</td> <td>   -0.743</td> <td> 0.458</td> <td>   -0.021</td> <td>    0.009</td>\n",
       "</tr>\n",
       "<tr>\n",
       "  <th>ar.L1.D.Price</th> <td>    0.4287</td> <td>    0.246</td> <td>    1.740</td> <td> 0.082</td> <td>   -0.054</td> <td>    0.912</td>\n",
       "</tr>\n",
       "<tr>\n",
       "  <th>ar.L2.D.Price</th> <td>    0.0177</td> <td>    0.014</td> <td>    1.264</td> <td> 0.206</td> <td>   -0.010</td> <td>    0.045</td>\n",
       "</tr>\n",
       "<tr>\n",
       "  <th>ar.L3.D.Price</th> <td>   -0.0118</td> <td>    0.012</td> <td>   -0.959</td> <td> 0.337</td> <td>   -0.036</td> <td>    0.012</td>\n",
       "</tr>\n",
       "<tr>\n",
       "  <th>ar.L4.D.Price</th> <td>    0.0110</td> <td>    0.012</td> <td>    0.879</td> <td> 0.379</td> <td>   -0.013</td> <td>    0.035</td>\n",
       "</tr>\n",
       "<tr>\n",
       "  <th>ar.L5.D.Price</th> <td>   -0.0191</td> <td>    0.011</td> <td>   -1.702</td> <td> 0.089</td> <td>   -0.041</td> <td>    0.003</td>\n",
       "</tr>\n",
       "<tr>\n",
       "  <th>ma.L1.D.Price</th> <td>   -0.4568</td> <td>    0.246</td> <td>   -1.856</td> <td> 0.064</td> <td>   -0.939</td> <td>    0.026</td>\n",
       "</tr>\n",
       "</table>\n",
       "<table class=\"simpletable\">\n",
       "<caption>Roots</caption>\n",
       "<tr>\n",
       "    <td></td>   <th>            Real</th>  <th>         Imaginary</th> <th>         Modulus</th>  <th>        Frequency</th>\n",
       "</tr>\n",
       "<tr>\n",
       "  <th>AR.1</th> <td>           1.7660</td> <td>          -0.7702j</td> <td>           1.9266</td> <td>          -0.0655</td>\n",
       "</tr>\n",
       "<tr>\n",
       "  <th>AR.2</th> <td>           1.7660</td> <td>          +0.7702j</td> <td>           1.9266</td> <td>           0.0655</td>\n",
       "</tr>\n",
       "<tr>\n",
       "  <th>AR.3</th> <td>          -2.3649</td> <td>          -0.0000j</td> <td>           2.3649</td> <td>          -0.5000</td>\n",
       "</tr>\n",
       "<tr>\n",
       "  <th>AR.4</th> <td>          -0.2974</td> <td>          -2.4212j</td> <td>           2.4394</td> <td>          -0.2695</td>\n",
       "</tr>\n",
       "<tr>\n",
       "  <th>AR.5</th> <td>          -0.2974</td> <td>          +2.4212j</td> <td>           2.4394</td> <td>           0.2695</td>\n",
       "</tr>\n",
       "<tr>\n",
       "  <th>MA.1</th> <td>           2.1893</td> <td>          +0.0000j</td> <td>           2.1893</td> <td>           0.0000</td>\n",
       "</tr>\n",
       "</table>"
      ],
      "text/plain": [
       "<class 'statsmodels.iolib.summary.Summary'>\n",
       "\"\"\"\n",
       "                             ARIMA Model Results                              \n",
       "==============================================================================\n",
       "Dep. Variable:                D.Price   No. Observations:                 7928\n",
       "Model:                 ARIMA(5, 1, 1)   Log Likelihood               -8745.622\n",
       "Method:                       css-mle   S.D. of innovations              0.729\n",
       "Date:                Sat, 30 Apr 2022   AIC                          17507.244\n",
       "Time:                        20:57:34   BIC                          17563.070\n",
       "Sample:                             1   HQIC                         17526.361\n",
       "                                                                              \n",
       "=================================================================================\n",
       "                    coef    std err          z      P>|z|      [0.025      0.975]\n",
       "---------------------------------------------------------------------------------\n",
       "const            -0.0058      0.008     -0.743      0.458      -0.021       0.009\n",
       "ar.L1.D.Price     0.4287      0.246      1.740      0.082      -0.054       0.912\n",
       "ar.L2.D.Price     0.0177      0.014      1.264      0.206      -0.010       0.045\n",
       "ar.L3.D.Price    -0.0118      0.012     -0.959      0.337      -0.036       0.012\n",
       "ar.L4.D.Price     0.0110      0.012      0.879      0.379      -0.013       0.035\n",
       "ar.L5.D.Price    -0.0191      0.011     -1.702      0.089      -0.041       0.003\n",
       "ma.L1.D.Price    -0.4568      0.246     -1.856      0.064      -0.939       0.026\n",
       "                                    Roots                                    \n",
       "=============================================================================\n",
       "                  Real          Imaginary           Modulus         Frequency\n",
       "-----------------------------------------------------------------------------\n",
       "AR.1            1.7660           -0.7702j            1.9266           -0.0655\n",
       "AR.2            1.7660           +0.7702j            1.9266            0.0655\n",
       "AR.3           -2.3649           -0.0000j            2.3649           -0.5000\n",
       "AR.4           -0.2974           -2.4212j            2.4394           -0.2695\n",
       "AR.5           -0.2974           +2.4212j            2.4394            0.2695\n",
       "MA.1            2.1893           +0.0000j            2.1893            0.0000\n",
       "-----------------------------------------------------------------------------\n",
       "\"\"\""
      ]
     },
     "execution_count": 50,
     "metadata": {},
     "output_type": "execute_result"
    }
   ],
   "source": [
    "# Output model summary results:\n",
    "results_arima.summary()"
   ]
  },
  {
   "cell_type": "code",
   "execution_count": 52,
   "metadata": {},
   "outputs": [
    {
     "data": {
      "text/plain": [
       "<AxesSubplot:title={'center':'5 Day Futures Price Forecast'}>"
      ]
     },
     "execution_count": 52,
     "metadata": {},
     "output_type": "execute_result"
    },
    {
     "data": {
      "image/png": "[encoded data removed]",
      "text/plain": [
       "<Figure size 432x288 with 1 Axes>"
      ]
     },
     "metadata": {
      "needs_background": "light"
     },
     "output_type": "display_data"
    }
   ],
   "source": [
    "# Plot the 5 Day Price Forecast\n",
    "pd.DataFrame(results_arima.forecast(steps=5)[0]).plot(title=\"5 Day Futures Price Forecast\")"
   ]
  },
  {
   "cell_type": "markdown",
   "metadata": {},
   "source": [
    "**Question:** What does the model forecast will happen to the Japanese Yen in the near term?\n",
    "\n",
    "**Answer:** The p-value is consistently higher than 0.05, so the model is not very accurate to predict forecast. But as per the forecast, the Yen could go down in value in near term"
   ]
  },
  {
   "cell_type": "markdown",
   "metadata": {},
   "source": [
    "---"
   ]
  },
  {
   "cell_type": "markdown",
   "metadata": {},
   "source": [
    "# Volatility Forecasting with GARCH\n",
    "\n",
    "Rather than predicting returns, let's forecast near-term **volatility** of Japanese Yen exchange rate returns. Being able to accurately predict volatility will be extremely useful if we want to trade in derivatives or quantify our maximum loss.\n",
    " \n",
    "Using exchange rate *Returns*, estimate a GARCH model. **Hint:** You can reuse the `returns` variable from the ARMA model section.\n",
    "\n",
    "1. GARCH: Create an GARCH model and fit it to the returns data. Note: Set the parameters to p=2 and q=1: order=(2, 1).\n",
    "2. Output the GARCH summary table and take note of the p-values of the lags. Based on the p-values, is the model a good fit (p < 0.05)?\n",
    "3. Plot the 5-day forecast of the volatility."
   ]
  },
  {
   "cell_type": "code",
   "execution_count": 57,
   "metadata": {},
   "outputs": [],
   "source": [
    "# Estimate a GARCH model:\n",
    "\n",
    "model_garch = arch_model(returns, mean=\"Zero\", vol=\"GARCH\", p=1, q=1)\n",
    "\n",
    "# Fit the model\n",
    "res_garch = model_garch.fit(disp=\"off\")"
   ]
  },
  {
   "cell_type": "code",
   "execution_count": 59,
   "metadata": {},
   "outputs": [
    {
     "data": {
      "text/html": [
       "<table class=\"simpletable\">\n",
       "<caption>Zero Mean - GARCH Model Results</caption>\n",
       "<tr>\n",
       "  <th>Dep. Variable:</th>        <td>Price</td>       <th>  R-squared:         </th>  <td>   0.000</td> \n",
       "</tr>\n",
       "<tr>\n",
       "  <th>Mean Model:</th>         <td>Zero Mean</td>     <th>  Adj. R-squared:    </th>  <td>   0.000</td> \n",
       "</tr>\n",
       "<tr>\n",
       "  <th>Vol Model:</th>            <td>GARCH</td>       <th>  Log-Likelihood:    </th> <td>  -8911.02</td>\n",
       "</tr>\n",
       "<tr>\n",
       "  <th>Distribution:</th>        <td>Normal</td>       <th>  AIC:               </th> <td>   17828.0</td>\n",
       "</tr>\n",
       "<tr>\n",
       "  <th>Method:</th>        <td>Maximum Likelihood</td> <th>  BIC:               </th> <td>   17849.0</td>\n",
       "</tr>\n",
       "<tr>\n",
       "  <th></th>                        <td></td>          <th>  No. Observations:  </th>    <td>7928</td>   \n",
       "</tr>\n",
       "<tr>\n",
       "  <th>Date:</th>           <td>Sat, Apr 30 2022</td>  <th>  Df Residuals:      </th>    <td>7928</td>   \n",
       "</tr>\n",
       "<tr>\n",
       "  <th>Time:</th>               <td>21:14:55</td>      <th>  Df Model:          </th>      <td>0</td>    \n",
       "</tr>\n",
       "</table>\n",
       "<table class=\"simpletable\">\n",
       "<caption>Volatility Model</caption>\n",
       "<tr>\n",
       "      <td></td>        <th>coef</th>     <th>std err</th>      <th>t</th>       <th>P>|t|</th>     <th>95.0% Conf. Int.</th>   \n",
       "</tr>\n",
       "<tr>\n",
       "  <th>omega</th>    <td>9.0734e-03</td> <td>2.401e-03</td> <td>    3.779</td> <td>1.574e-04</td> <td>[4.368e-03,1.378e-02]</td>\n",
       "</tr>\n",
       "<tr>\n",
       "  <th>alpha[1]</th> <td>    0.0624</td> <td>9.003e-03</td> <td>    6.936</td> <td>4.036e-12</td> <td>[4.480e-02,8.009e-02]</td>\n",
       "</tr>\n",
       "<tr>\n",
       "  <th>beta[1]</th>  <td>    0.9243</td> <td>1.110e-02</td> <td>   83.252</td>   <td>0.000</td>     <td>[  0.903,  0.946]</td>  \n",
       "</tr>\n",
       "</table><br/><br/>Covariance estimator: robust"
      ],
      "text/plain": [
       "<class 'statsmodels.iolib.summary.Summary'>\n",
       "\"\"\"\n",
       "                       Zero Mean - GARCH Model Results                        \n",
       "==============================================================================\n",
       "Dep. Variable:                  Price   R-squared:                       0.000\n",
       "Mean Model:                 Zero Mean   Adj. R-squared:                  0.000\n",
       "Vol Model:                      GARCH   Log-Likelihood:               -8911.02\n",
       "Distribution:                  Normal   AIC:                           17828.0\n",
       "Method:            Maximum Likelihood   BIC:                           17849.0\n",
       "                                        No. Observations:                 7928\n",
       "Date:                Sat, Apr 30 2022   Df Residuals:                     7928\n",
       "Time:                        21:14:55   Df Model:                            0\n",
       "                              Volatility Model                              \n",
       "============================================================================\n",
       "                 coef    std err          t      P>|t|      95.0% Conf. Int.\n",
       "----------------------------------------------------------------------------\n",
       "omega      9.0734e-03  2.401e-03      3.779  1.574e-04 [4.368e-03,1.378e-02]\n",
       "alpha[1]       0.0624  9.003e-03      6.936  4.036e-12 [4.480e-02,8.009e-02]\n",
       "beta[1]        0.9243  1.110e-02     83.252      0.000     [  0.903,  0.946]\n",
       "============================================================================\n",
       "\n",
       "Covariance estimator: robust\n",
       "\"\"\""
      ]
     },
     "execution_count": 59,
     "metadata": {},
     "output_type": "execute_result"
    }
   ],
   "source": [
    "# Summarize the model results\n",
    "res_garch.summary()"
   ]
  },
  {
   "cell_type": "markdown",
   "metadata": {},
   "source": [
    "**Note:** Our p-values for GARCH and volatility forecasts tend to be much lower than our ARMA/ARIMA return and price forecasts. In particular, here we have all p-values of less than 0.05, except for alpha(2), indicating overall a much better model performance. In practice, in financial markets, it's easier to forecast volatility than it is to forecast returns or prices. (After all, if we could very easily predict returns, we'd all be rich!)"
   ]
  },
  {
   "cell_type": "code",
   "execution_count": 61,
   "metadata": {},
   "outputs": [
    {
     "data": {
      "text/plain": [
       "'2020-06-04'"
      ]
     },
     "execution_count": 61,
     "metadata": {},
     "output_type": "execute_result"
    }
   ],
   "source": [
    "# Find the last day of the dataset\n",
    "last_day = returns.index.max().strftime('%Y-%m-%d')\n",
    "last_day"
   ]
  },
  {
   "cell_type": "code",
   "execution_count": 62,
   "metadata": {},
   "outputs": [
    {
     "data": {
      "text/plain": [
       "<arch.univariate.base.ARCHModelForecast at 0x7fcb76434bd0>"
      ]
     },
     "execution_count": 62,
     "metadata": {},
     "output_type": "execute_result"
    }
   ],
   "source": [
    "# Create a 5 day forecast of volatility\n",
    "forecast_horizon = 5\n",
    "\n",
    "# Start the forecast using the last_day calculated above\n",
    "forecasts = res_garch.forecast(start=last_day, horizon=forecast_horizon)\n",
    "forecasts"
   ]
  },
  {
   "cell_type": "code",
   "execution_count": 63,
   "metadata": {},
   "outputs": [
    {
     "data": {
      "text/html": [
       "<div>\n",
       "<style scoped>\n",
       "    .dataframe tbody tr th:only-of-type {\n",
       "        vertical-align: middle;\n",
       "    }\n",
       "\n",
       "    .dataframe tbody tr th {\n",
       "        vertical-align: top;\n",
       "    }\n",
       "\n",
       "    .dataframe thead th {\n",
       "        text-align: right;\n",
       "    }\n",
       "</style>\n",
       "<table border=\"1\" class=\"dataframe\">\n",
       "  <thead>\n",
       "    <tr style=\"text-align: right;\">\n",
       "      <th></th>\n",
       "      <th>h.1</th>\n",
       "      <th>h.2</th>\n",
       "      <th>h.3</th>\n",
       "      <th>h.4</th>\n",
       "      <th>h.5</th>\n",
       "    </tr>\n",
       "    <tr>\n",
       "      <th>Date</th>\n",
       "      <th></th>\n",
       "      <th></th>\n",
       "      <th></th>\n",
       "      <th></th>\n",
       "      <th></th>\n",
       "    </tr>\n",
       "  </thead>\n",
       "  <tbody>\n",
       "    <tr>\n",
       "      <th>2020-06-04</th>\n",
       "      <td>12.566047</td>\n",
       "      <td>12.573736</td>\n",
       "      <td>12.581319</td>\n",
       "      <td>12.588797</td>\n",
       "      <td>12.596172</td>\n",
       "    </tr>\n",
       "  </tbody>\n",
       "</table>\n",
       "</div>"
      ],
      "text/plain": [
       "                  h.1        h.2        h.3        h.4        h.5\n",
       "Date                                                             \n",
       "2020-06-04  12.566047  12.573736  12.581319  12.588797  12.596172"
      ]
     },
     "execution_count": 63,
     "metadata": {},
     "output_type": "execute_result"
    }
   ],
   "source": [
    "# Annualize the forecast\n",
    "intermediate = np.sqrt(forecasts.variance.dropna() * 252)\n",
    "intermediate.head()"
   ]
  },
  {
   "cell_type": "code",
   "execution_count": 64,
   "metadata": {},
   "outputs": [
    {
     "data": {
      "text/html": [
       "<div>\n",
       "<style scoped>\n",
       "    .dataframe tbody tr th:only-of-type {\n",
       "        vertical-align: middle;\n",
       "    }\n",
       "\n",
       "    .dataframe tbody tr th {\n",
       "        vertical-align: top;\n",
       "    }\n",
       "\n",
       "    .dataframe thead th {\n",
       "        text-align: right;\n",
       "    }\n",
       "</style>\n",
       "<table border=\"1\" class=\"dataframe\">\n",
       "  <thead>\n",
       "    <tr style=\"text-align: right;\">\n",
       "      <th>Date</th>\n",
       "      <th>2020-06-04</th>\n",
       "    </tr>\n",
       "  </thead>\n",
       "  <tbody>\n",
       "    <tr>\n",
       "      <th>h.1</th>\n",
       "      <td>12.566047</td>\n",
       "    </tr>\n",
       "    <tr>\n",
       "      <th>h.2</th>\n",
       "      <td>12.573736</td>\n",
       "    </tr>\n",
       "    <tr>\n",
       "      <th>h.3</th>\n",
       "      <td>12.581319</td>\n",
       "    </tr>\n",
       "    <tr>\n",
       "      <th>h.4</th>\n",
       "      <td>12.588797</td>\n",
       "    </tr>\n",
       "    <tr>\n",
       "      <th>h.5</th>\n",
       "      <td>12.596172</td>\n",
       "    </tr>\n",
       "  </tbody>\n",
       "</table>\n",
       "</div>"
      ],
      "text/plain": [
       "Date  2020-06-04\n",
       "h.1    12.566047\n",
       "h.2    12.573736\n",
       "h.3    12.581319\n",
       "h.4    12.588797\n",
       "h.5    12.596172"
      ]
     },
     "execution_count": 64,
     "metadata": {},
     "output_type": "execute_result"
    }
   ],
   "source": [
    "# Transpose the forecast so that it is easier to plot\n",
    "final = intermediate.dropna().T\n",
    "final.head()"
   ]
  },
  {
   "cell_type": "code",
   "execution_count": 65,
   "metadata": {},
   "outputs": [
    {
     "data": {
      "text/plain": [
       "<AxesSubplot:>"
      ]
     },
     "execution_count": 65,
     "metadata": {},
     "output_type": "execute_result"
    },
    {
     "data": {
      "image/png": "[encoded data removed]",
      "text/plain": [
       "<Figure size 432x288 with 1 Axes>"
      ]
     },
     "metadata": {
      "needs_background": "light"
     },
     "output_type": "display_data"
    }
   ],
   "source": [
    "# Plot the final forecast\n",
    "final.plot()"
   ]
  },
  {
   "cell_type": "markdown",
   "metadata": {},
   "source": [
    "**Question:** What does the model forecast will happen to volatility in the near term?\n",
    "\n",
    "**Answer:** Based on the model, the volatility will increase in the near term."
   ]
  },
  {
   "cell_type": "markdown",
   "metadata": {},
   "source": [
    "---"
   ]
  },
  {
   "cell_type": "markdown",
   "metadata": {},
   "source": [
    "# Conclusions"
   ]
  },
  {
   "cell_type": "markdown",
   "metadata": {},
   "source": [
    "1. Based on your time series analysis, would you buy the yen now?\n",
    "\n",
    "    * I would not buy Yen to hold it for long term as the overall trend is downwads. It might be an option for trading as there is a high volatility and one can short/buy puts to make money by trading."
   ]
  },
  {
   "cell_type": "markdown",
   "metadata": {},
   "source": [
    "2. Is the risk of the yen expected to increase or decrease?\n",
    "    * The future prediction models are not accurate, however based on the increase volatility which is accurate due to lower p-values, the risk is expected to increase"
   ]
  },
  {
   "cell_type": "markdown",
   "metadata": {},
   "source": [
    "3. Based on the model evaluation, would you feel confident in using these models for trading?\n",
    "    * The volatility is expected to be very high, which can be beneficial for trading frequently using additional chart patterns."
   ]
  },
  {
   "cell_type": "code",
   "execution_count": null,
   "metadata": {},
   "outputs": [],
   "source": []
  }
 ],
 "metadata": {
  "file_extension": ".py",
  "kernelspec": {
   "display_name": "Python 3 (ipykernel)",
   "language": "python",
   "name": "python3"
  },
  "language_info": {
   "codemirror_mode": {
    "name": "ipython",
    "version": 3
   },
   "file_extension": ".py",
   "mimetype": "text/x-python",
   "name": "python",
   "nbconvert_exporter": "python",
   "pygments_lexer": "ipython3",
   "version": "3.7.11"
  },
  "mimetype": "text/x-python",
  "name": "python",
  "npconvert_exporter": "python",
  "pygments_lexer": "ipython3",
  "version": 3
 },
 "nbformat": 4,
 "nbformat_minor": 4
}
